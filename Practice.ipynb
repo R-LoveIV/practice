{
 "cells": [
  {
   "cell_type": "code",
   "execution_count": 1,
   "id": "d3cff3e9-4b37-4276-99b7-7ac164172108",
   "metadata": {},
   "outputs": [],
   "source": [
    "import numpy as np\n",
    "import pandas as pd"
   ]
  },
  {
   "cell_type": "code",
   "execution_count": 5,
   "id": "ed90c660-d81f-4007-b1a3-3bd071f1467c",
   "metadata": {},
   "outputs": [
    {
     "name": "stdout",
     "output_type": "stream",
     "text": [
      "You're old enough to buy liquor\n",
      "You're not old enough.\n",
      "You're not old enough.\n",
      "<__main__.Customer object at 0x7fa0eaf46220>\n",
      "<__main__.Customer object at 0x7fa0eaf344f0>\n"
     ]
    }
   ],
   "source": [
    "\n",
    "class Customer:\n",
    "\n",
    "    def __init__(self,age):\n",
    "        self.age = age\n",
    "        \n",
    "        if age >= 21:\n",
    "            print(\"You're old enough to buy liquor\")\n",
    "        else:\n",
    "            print(\"You're not old enough.\")\n",
    "\n",
    "customer1 = Customer(31)\n",
    "customer2 = Customer(20)\n",
    "customer3 = Customer(12)\n",
    "\n",
    "print(customer2)\n",
    "print(customer3)"
   ]
  },
  {
   "cell_type": "code",
   "execution_count": null,
   "id": "dd843496-b48d-41f9-94d2-09b86ca164c9",
   "metadata": {},
   "outputs": [],
   "source": []
  }
 ],
 "metadata": {
  "kernelspec": {
   "display_name": "Python 3 (ipykernel)",
   "language": "python",
   "name": "python3"
  },
  "language_info": {
   "codemirror_mode": {
    "name": "ipython",
    "version": 3
   },
   "file_extension": ".py",
   "mimetype": "text/x-python",
   "name": "python",
   "nbconvert_exporter": "python",
   "pygments_lexer": "ipython3",
   "version": "3.8.18"
  }
 },
 "nbformat": 4,
 "nbformat_minor": 5
}
